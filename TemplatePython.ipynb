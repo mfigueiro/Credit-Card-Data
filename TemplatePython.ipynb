{
 "cells": [
  {
   "cell_type": "markdown",
   "metadata": {},
   "source": [
    "## DADOS EM ARQUIVO CSV"
   ]
  },
  {
   "cell_type": "code",
   "execution_count": 2,
   "metadata": {},
   "outputs": [],
   "source": [
    "import pandas as pd\n",
    "import numpy as np"
   ]
  },
  {
   "cell_type": "code",
   "execution_count": 3,
   "metadata": {},
   "outputs": [
    {
     "data": {
      "text/plain": [
       "Data         object\n",
       "Cliente      object\n",
       "Valor       float64\n",
       "Parcelas      int64\n",
       "dtype: object"
      ]
     },
     "execution_count": 3,
     "metadata": {},
     "output_type": "execute_result"
    }
   ],
   "source": [
    "df =  pd.read_csv('C:/Users/mferr/Downloads/Curso Python/Dados/Dados.csv', sep=';', encoding = \"ISO-8859-1\")\n",
    "df.shape\n",
    "df.head()\n",
    "df.tail()\n",
    "df.dtypes"
   ]
  },
  {
   "cell_type": "code",
   "execution_count": 4,
   "metadata": {},
   "outputs": [],
   "source": [
    "df['Data'] = pd.to_datetime(df['Data'], format=\"%d/%m/%Y\")\n",
    "df.dtypes\n",
    "df['Mes']=df['Data'].dt.month\n",
    "df[\"Valor_mes\"] = df[\"Valor\"] / df[\"Parcelas\"]\n",
    "df\n",
    "def Explode_mes(row):\n",
    "    return [ int(row[\"Mes\"]) + i for i in range(int(row[\"Parcelas\"]) ) ]\n",
    "df[\"Mes_explode\"] = df.apply(Explode_mes, axis=1)\n",
    "df[\"Mes_explode\"]\n",
    "df2 = df.explode(\"Mes_explode\")\n",
    "df2\n",
    "df3 = df2.groupby( [\"Cliente\", \"Mes_explode\"] )[\"Valor_mes\"].sum()\n",
    "df3\n",
    "df4 = df3.unstack().fillna(0)"
   ]
  },
  {
   "cell_type": "code",
   "execution_count": 5,
   "metadata": {},
   "outputs": [
    {
     "data": {
      "text/html": [
       "<div>\n",
       "<style scoped>\n",
       "    .dataframe tbody tr th:only-of-type {\n",
       "        vertical-align: middle;\n",
       "    }\n",
       "\n",
       "    .dataframe tbody tr th {\n",
       "        vertical-align: top;\n",
       "    }\n",
       "\n",
       "    .dataframe thead th {\n",
       "        text-align: right;\n",
       "    }\n",
       "</style>\n",
       "<table border=\"1\" class=\"dataframe\">\n",
       "  <thead>\n",
       "    <tr style=\"text-align: right;\">\n",
       "      <th>Mes_explode</th>\n",
       "      <th>1</th>\n",
       "      <th>2</th>\n",
       "      <th>3</th>\n",
       "      <th>4</th>\n",
       "      <th>5</th>\n",
       "    </tr>\n",
       "    <tr>\n",
       "      <th>Cliente</th>\n",
       "      <th></th>\n",
       "      <th></th>\n",
       "      <th></th>\n",
       "      <th></th>\n",
       "      <th></th>\n",
       "    </tr>\n",
       "  </thead>\n",
       "  <tbody>\n",
       "    <tr>\n",
       "      <th>Casimiro de Abreu</th>\n",
       "      <td>125.0</td>\n",
       "      <td>149.56</td>\n",
       "      <td>0.000000</td>\n",
       "      <td>0.000000</td>\n",
       "      <td>0.000000</td>\n",
       "    </tr>\n",
       "    <tr>\n",
       "      <th>Eça de Queiroz</th>\n",
       "      <td>0.0</td>\n",
       "      <td>0.00</td>\n",
       "      <td>256.296667</td>\n",
       "      <td>256.296667</td>\n",
       "      <td>256.296667</td>\n",
       "    </tr>\n",
       "    <tr>\n",
       "      <th>José Alencar</th>\n",
       "      <td>100.0</td>\n",
       "      <td>100.00</td>\n",
       "      <td>100.000000</td>\n",
       "      <td>0.000000</td>\n",
       "      <td>0.000000</td>\n",
       "    </tr>\n",
       "    <tr>\n",
       "      <th>Machado de Assis</th>\n",
       "      <td>2500.0</td>\n",
       "      <td>188.45</td>\n",
       "      <td>188.450000</td>\n",
       "      <td>0.000000</td>\n",
       "      <td>0.000000</td>\n",
       "    </tr>\n",
       "    <tr>\n",
       "      <th>Mario de Andrade</th>\n",
       "      <td>500.0</td>\n",
       "      <td>620.25</td>\n",
       "      <td>0.000000</td>\n",
       "      <td>0.000000</td>\n",
       "      <td>0.000000</td>\n",
       "    </tr>\n",
       "    <tr>\n",
       "      <th>Érico Veríssimo</th>\n",
       "      <td>0.0</td>\n",
       "      <td>180.00</td>\n",
       "      <td>180.000000</td>\n",
       "      <td>0.000000</td>\n",
       "      <td>0.000000</td>\n",
       "    </tr>\n",
       "  </tbody>\n",
       "</table>\n",
       "</div>"
      ],
      "text/plain": [
       "Mes_explode             1       2           3           4           5\n",
       "Cliente                                                              \n",
       "Casimiro de Abreu   125.0  149.56    0.000000    0.000000    0.000000\n",
       "Eça de Queiroz        0.0    0.00  256.296667  256.296667  256.296667\n",
       "José Alencar        100.0  100.00  100.000000    0.000000    0.000000\n",
       "Machado de Assis   2500.0  188.45  188.450000    0.000000    0.000000\n",
       "Mario de Andrade    500.0  620.25    0.000000    0.000000    0.000000\n",
       "Érico Veríssimo       0.0  180.00  180.000000    0.000000    0.000000"
      ]
     },
     "execution_count": 5,
     "metadata": {},
     "output_type": "execute_result"
    }
   ],
   "source": [
    "df4"
   ]
  },
  {
   "cell_type": "code",
   "execution_count": null,
   "metadata": {},
   "outputs": [],
   "source": []
  }
 ],
 "metadata": {
  "kernelspec": {
   "display_name": "Python 3",
   "language": "python",
   "name": "python3"
  },
  "language_info": {
   "codemirror_mode": {
    "name": "ipython",
    "version": 3
   },
   "file_extension": ".py",
   "mimetype": "text/x-python",
   "name": "python",
   "nbconvert_exporter": "python",
   "pygments_lexer": "ipython3",
   "version": "3.7.4"
  }
 },
 "nbformat": 4,
 "nbformat_minor": 2
}
